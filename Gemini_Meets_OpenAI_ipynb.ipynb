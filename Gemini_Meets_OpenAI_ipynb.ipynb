{
  "nbformat": 4,
  "nbformat_minor": 0,
  "metadata": {
    "colab": {
      "provenance": []
    },
    "kernelspec": {
      "name": "python3",
      "display_name": "Python 3"
    },
    "language_info": {
      "name": "python"
    }
  },
  "cells": [
    {
      "cell_type": "markdown",
      "source": [
        "# Installations"
      ],
      "metadata": {
        "id": "GYyMsEYGDM4F"
      }
    },
    {
      "cell_type": "code",
      "execution_count": null,
      "metadata": {
        "colab": {
          "base_uri": "https://localhost:8080/"
        },
        "id": "-z52X6q_MQZ_",
        "outputId": "074fbd87-8c14-4d79-858d-435c5c6c9a13"
      },
      "outputs": [
        {
          "output_type": "stream",
          "name": "stdout",
          "text": [
            "Collecting openai==1.55.3\n",
            "  Downloading openai-1.55.3-py3-none-any.whl.metadata (24 kB)\n",
            "Collecting httpx==0.27.2\n",
            "  Downloading httpx-0.27.2-py3-none-any.whl.metadata (7.1 kB)\n",
            "Requirement already satisfied: anyio<5,>=3.5.0 in /usr/local/lib/python3.10/dist-packages (from openai==1.55.3) (3.7.1)\n",
            "Requirement already satisfied: distro<2,>=1.7.0 in /usr/local/lib/python3.10/dist-packages (from openai==1.55.3) (1.9.0)\n",
            "Requirement already satisfied: jiter<1,>=0.4.0 in /usr/local/lib/python3.10/dist-packages (from openai==1.55.3) (0.8.2)\n",
            "Requirement already satisfied: pydantic<3,>=1.9.0 in /usr/local/lib/python3.10/dist-packages (from openai==1.55.3) (2.10.3)\n",
            "Requirement already satisfied: sniffio in /usr/local/lib/python3.10/dist-packages (from openai==1.55.3) (1.3.1)\n",
            "Requirement already satisfied: tqdm>4 in /usr/local/lib/python3.10/dist-packages (from openai==1.55.3) (4.67.1)\n",
            "Requirement already satisfied: typing-extensions<5,>=4.11 in /usr/local/lib/python3.10/dist-packages (from openai==1.55.3) (4.12.2)\n",
            "Requirement already satisfied: certifi in /usr/local/lib/python3.10/dist-packages (from httpx==0.27.2) (2024.12.14)\n",
            "Requirement already satisfied: httpcore==1.* in /usr/local/lib/python3.10/dist-packages (from httpx==0.27.2) (1.0.7)\n",
            "Requirement already satisfied: idna in /usr/local/lib/python3.10/dist-packages (from httpx==0.27.2) (3.10)\n",
            "Requirement already satisfied: h11<0.15,>=0.13 in /usr/local/lib/python3.10/dist-packages (from httpcore==1.*->httpx==0.27.2) (0.14.0)\n",
            "Requirement already satisfied: exceptiongroup in /usr/local/lib/python3.10/dist-packages (from anyio<5,>=3.5.0->openai==1.55.3) (1.2.2)\n",
            "Requirement already satisfied: annotated-types>=0.6.0 in /usr/local/lib/python3.10/dist-packages (from pydantic<3,>=1.9.0->openai==1.55.3) (0.7.0)\n",
            "Requirement already satisfied: pydantic-core==2.27.1 in /usr/local/lib/python3.10/dist-packages (from pydantic<3,>=1.9.0->openai==1.55.3) (2.27.1)\n",
            "Downloading openai-1.55.3-py3-none-any.whl (389 kB)\n",
            "\u001b[2K   \u001b[90m━━━━━━━━━━━━━━━━━━━━━━━━━━━━━━━━━━━━━━━━\u001b[0m \u001b[32m389.6/389.6 kB\u001b[0m \u001b[31m8.1 MB/s\u001b[0m eta \u001b[36m0:00:00\u001b[0m\n",
            "\u001b[?25hDownloading httpx-0.27.2-py3-none-any.whl (76 kB)\n",
            "\u001b[2K   \u001b[90m━━━━━━━━━━━━━━━━━━━━━━━━━━━━━━━━━━━━━━━━\u001b[0m \u001b[32m76.4/76.4 kB\u001b[0m \u001b[31m7.0 MB/s\u001b[0m eta \u001b[36m0:00:00\u001b[0m\n",
            "\u001b[?25hInstalling collected packages: httpx, openai\n",
            "  Attempting uninstall: httpx\n",
            "    Found existing installation: httpx 0.28.1\n",
            "    Uninstalling httpx-0.28.1:\n",
            "      Successfully uninstalled httpx-0.28.1\n",
            "  Attempting uninstall: openai\n",
            "    Found existing installation: openai 1.57.4\n",
            "    Uninstalling openai-1.57.4:\n",
            "      Successfully uninstalled openai-1.57.4\n",
            "Successfully installed httpx-0.27.2 openai-1.55.3\n"
          ]
        }
      ],
      "source": [
        "!pip install openai==1.55.3 httpx==0.27.2"
      ]
    },
    {
      "cell_type": "markdown",
      "source": [],
      "metadata": {
        "id": "aLqUsHmPDL9u"
      }
    },
    {
      "cell_type": "code",
      "source": [
        "# !pip install --upgrade openai"
      ],
      "metadata": {
        "id": "tYAhb7dmSgo6"
      },
      "execution_count": null,
      "outputs": []
    },
    {
      "cell_type": "markdown",
      "source": [
        "# Setting up your Environment"
      ],
      "metadata": {
        "id": "M2vXVKPIDXfo"
      }
    },
    {
      "cell_type": "code",
      "source": [
        "import os\n",
        "from google.colab import userdata\n",
        "\n",
        "def set_env_variable(key, value):\n",
        "    if value:\n",
        "        os.environ[key] = value\n",
        "        print(f\"Environment variable {key} set successfully.\")\n",
        "    else:\n",
        "        print(f\"Warning: {key} is not available in userdata.\")\n",
        "\n",
        "# Get GEMINI_API_KEY from userdata\n",
        "gemini_api_key = userdata.get('GEMINI_API_Key')  # Ensure the key is correctly named\n",
        "\n",
        "# Set environment variables\n",
        "set_env_variable(\"GEMINI_API_KEY\", gemini_api_key)  # Use uppercase for environment variables"
      ],
      "metadata": {
        "colab": {
          "base_uri": "https://localhost:8080/"
        },
        "id": "CnPrJmjZNh0D",
        "outputId": "ba86bfcd-b486-4067-e85f-35721f0c4217"
      },
      "execution_count": null,
      "outputs": [
        {
          "output_type": "stream",
          "name": "stdout",
          "text": [
            "Environment variable GEMINI_API_KEY set successfully.\n"
          ]
        }
      ]
    },
    {
      "cell_type": "markdown",
      "source": [
        "# Example 1\n",
        "\n",
        "How can you use the Gemini model to create clear explanations or generate creative content through a chat completion request?"
      ],
      "metadata": {
        "id": "hidvh7vxdfZQ"
      }
    },
    {
      "cell_type": "code",
      "source": [
        "from openai import OpenAI\n",
        "\n",
        "# Initialize OpenAI client\n",
        "client = OpenAI(\n",
        "    api_key= gemini_api_key,\n",
        "    base_url=\"https://generativelanguage.googleapis.com/v1beta/\"\n",
        ")\n",
        "# Make a chat completion request\n",
        "response = client.chat.completions.create(\n",
        "    model=\"gemini-1.5-flash\",\n",
        "    messages=[\n",
        "        {\"role\": \"system\", \"content\": \"You are an expert in explaining complex topics.\"},\n",
        "        {\"role\": \"user\", \"content\": \"Explain how AI could create a personalized bedtime story for a child in real-time?\"}\n",
        "    ]\n",
        ")\n",
        "# Print the response\n",
        "print(response.choices[0].message.content)"
      ],
      "metadata": {
        "colab": {
          "base_uri": "https://localhost:8080/"
        },
        "id": "q-s9kz7FO5JX",
        "outputId": "26bebbe9-8971-40e1-87ef-a11318da8d84"
      },
      "execution_count": null,
      "outputs": [
        {
          "output_type": "stream",
          "name": "stdout",
          "text": [
            "Creating a personalized bedtime story in real-time using AI requires a sophisticated system integrating several advanced technologies.  It's not simply about plugging keywords into a template; true personalization demands a deep understanding of the child's preferences and the ability to generate coherent, engaging narratives on the fly. Let's break down the components:\n",
            "\n",
            "**1. Data Acquisition and Profiling:**\n",
            "\n",
            "* **Child's Profile:**  The system needs a profile of the child, gathered ethically and with parental consent. This could include:\n",
            "    * **Age:** Dictates vocabulary, sentence structure complexity, and thematic appropriateness.  A story for a 3-year-old will differ vastly from one for a 10-year-old.\n",
            "    * **Interests:**  Favorites animals, colors, toys, activities, etc.  These are crucial for populating the story with relevant characters, settings, and plot elements.  This could be gleaned from previous interactions, parental input, or even analyzing the child's drawings (using image recognition AI).\n",
            "    * **Reading Level:** AI could gauge this through interactive sessions, assessing comprehension and vocabulary.  This ensures the story remains engaging and avoids frustration.\n",
            "    * **Personality Traits (carefully handled):**  While ethically complex,  a subtle understanding of a child's adventurousness or cautious nature could influence the story's tone and plot arc.  This requires robust safeguards against misinterpretations and biases.\n",
            "* **Real-time Input:** The system might incorporate real-time inputs, such as the child's verbal responses (\"I like the dragon!\"), choices presented within the story (\"Do you want to go left or right?\"), or even emotional cues from facial expression analysis (requiring camera access and sophisticated emotion recognition AI).\n",
            "\n",
            "**2. Narrative Generation Engine:**\n",
            "\n",
            "This is the heart of the system, responsible for crafting the story dynamically. It uses several AI techniques:\n",
            "\n",
            "* **Large Language Models (LLMs):**  These are the foundation, capable of generating human-quality text.  LLMs are trained on massive datasets of text and code, allowing them to understand grammar, context, and even narrative structure.  They'd be used to generate sentences, paragraphs, and the overall story flow.\n",
            "* **Knowledge Graph:**  A knowledge graph organizes information about characters, objects, and settings, allowing the AI to maintain consistency and avoid contradictions within the story.  If the child mentions a unicorn, the system can access relevant knowledge about unicorns to integrate them seamlessly.\n",
            "* **Planning and Plot Generation:**  This is a more advanced aspect.  The AI needs algorithms to create coherent plots, introduce conflict and resolution, and ensure a satisfying narrative arc, adapting to the child's real-time input. This might involve techniques like story grammars or reinforcement learning, training the AI on successful story structures.\n",
            "* **Constraint Satisfaction:**  The system must manage constraints.  The story needs to adhere to the child's profile, integrate real-time input, avoid repetition, and stay within a reasonable length for bedtime.\n",
            "\n",
            "**3. Speech Synthesis and Presentation:**\n",
            "\n",
            "* **Text-to-Speech (TTS):**  Once generated, the story needs to be presented audibly. Advanced TTS systems can produce natural-sounding speech, even modulating tone and emphasis for a more engaging experience.\n",
            "* **Interactive Elements:** The story might include interactive elements like sound effects, music, and visual aids (if displayed on a screen).  The AI would need to coordinate these elements with the narrative flow.\n",
            "\n",
            "**Ethical Considerations:**\n",
            "\n",
            "* **Data Privacy:**  Protecting the child's data is paramount.  Robust security measures and transparent data usage policies are crucial.\n",
            "* **Bias Mitigation:**  LLMs can inherit biases from their training data.  It's essential to mitigate these biases to prevent the creation of stories that perpetuate stereotypes or harmful representations.\n",
            "* **Parental Control:**  Parents should have complete control over the system, including the ability to review collected data, customize settings, and intervene in the story generation process.\n",
            "\n",
            "In summary, creating a real-time personalized bedtime story is a challenging but achievable goal.  It requires a powerful combination of AI technologies, careful ethical considerations, and a strong focus on user experience to ensure a safe, engaging, and enjoyable experience for the child.  The current state-of-the-art is moving towards this capability, but significant advancements are still needed before it becomes truly seamless and widely available.\n",
            "\n"
          ]
        }
      ]
    },
    {
      "cell_type": "code",
      "source": [
        "from openai import OpenAI\n",
        "\n",
        "# Initialize OpenAI client\n",
        "client = OpenAI(\n",
        "    api_key= gemini_api_key,\n",
        "    base_url=\"https://generativelanguage.googleapis.com/v1beta/\"\n",
        ")\n",
        "# Make a chat completion request\n",
        "response = client.chat.completions.create(\n",
        "    model=\"gemini-1.5-flash\",\n",
        "    messages=[\n",
        "        {\"role\": \"system\", \"content\": \"You are an expert in explaining complex topics.\"},\n",
        "        {\"role\": \"user\", \"content\": \"What is google devfest?\"}\n",
        "    ]\n",
        ")\n",
        "# Print the response\n",
        "print(response.choices[0].message.content)"
      ],
      "metadata": {
        "colab": {
          "base_uri": "https://localhost:8080/"
        },
        "id": "oVN0QU-cb74a",
        "outputId": "37e3b68d-6b19-43f2-f9d8-c3a1b3396f75"
      },
      "execution_count": null,
      "outputs": [
        {
          "output_type": "stream",
          "name": "stdout",
          "text": [
            "Google DevFest is a community-organized developer festival spanning a single day or multiple days, focused on providing a collaborative learning experience for developers of all skill levels.  It's not a single, monolithic event, but rather a globally distributed series of independently organized events, all sharing a common brand and overarching goals.  Think of it as a franchise model, where local developer communities receive support and resources from Google to host their own DevFests.\n",
            "\n",
            "Here's a breakdown of key aspects highlighting the nuances often missed in simpler explanations:\n",
            "\n",
            "**Key Characteristics of Google DevFest:**\n",
            "\n",
            "* **Community-Led, Google-Supported:**  This is crucial.  While Google provides branding, resources (sometimes including sponsorship funding), and access to speakers and technologies, the events themselves are conceived, organized, and executed by local developer communities. This means the specific content and focus often reflect the local tech scene's interests and needs.\n",
            "\n",
            "* **Diverse Content:** DevFests aren't solely focused on one technology or programming language. While Google technologies (Android, Cloud, TensorFlow, etc.) are often featured, events typically embrace a broader range of topics relevant to modern software development. This can include web development, mobile development, AI/ML, cybersecurity, DevOps, and emerging technologies.\n",
            "\n",
            "* **Varied Formats:**  The event structure isn't standardized.  You might find a mix of workshops (hands-on learning), technical talks (presentations by experts), coding challenges, networking opportunities, hackathons (often extending beyond the main DevFest dates), and even mentorship sessions. The format depends largely on the organizing community's vision and available resources.\n",
            "\n",
            "* **Skill Level Inclusivity:**  While DevFests often have sessions targeting advanced developers, a significant portion of the content is designed to be accessible to beginners and intermediate developers. This is intended to foster inclusivity and community growth.\n",
            "\n",
            "* **Networking Emphasis:** Beyond the technical learning, DevFest places strong importance on networking.  It provides an opportunity for developers to connect with peers, industry professionals, potential employers, and Google representatives.\n",
            "\n",
            "* **Geographic Dispersion:**  DevFests occur globally, in cities and regions across the world, adapting to local contexts and catering to regional developer communities. This makes it accessible to a much wider audience than a single, large-scale event could reach.\n",
            "\n",
            "**What distinguishes DevFest from other developer conferences?**\n",
            "\n",
            "The key difference lies in its decentralized and community-driven nature.  Large-scale conferences are typically organized by corporations or event management companies, with a high cost of attendance. DevFests, while having Google's backing, aim to be more inclusive and accessible, often with lower or no attendance fees, thanks to the community effort and sometimes sponsorship.  This fosters a different atmosphere, typically more relaxed and collaborative than large, corporate-run events.\n",
            "\n",
            "\n",
            "In short, Google DevFest is a global network of hyperlocal developer events, fostering collaboration, learning, and community growth within the wider developer ecosystem.  The experience at one DevFest can vary significantly from another, reflecting the unique characteristics of each organizing community.\n",
            "\n"
          ]
        }
      ]
    },
    {
      "cell_type": "markdown",
      "source": [
        "# Example 2\n",
        "\n",
        "How can you use the Gemini model to generate well-structured responses for tasks that need clear formatting and detailed information?\n",
        "\n",
        "Simple - Function calling makes it easier for you to get structured data outputs from generative models and is supported in the Gemini API."
      ],
      "metadata": {
        "id": "mQR0vJrwdE9i"
      }
    },
    {
      "cell_type": "code",
      "source": [
        "from openai import OpenAI\n",
        "\n",
        "client = OpenAI(\n",
        "    api_key= gemini_api_key,\n",
        "    base_url=\"https://generativelanguage.googleapis.com/v1beta/openai/\"\n",
        ")\n",
        "\n",
        "tools = [\n",
        "  {\n",
        "    \"type\": \"function\",\n",
        "    \"function\": {\n",
        "      \"name\": \"get_weather\",\n",
        "      \"description\": \"Get the weather in a given location\",\n",
        "      \"parameters\": {\n",
        "        \"type\": \"object\",\n",
        "        \"properties\": {\n",
        "          \"location\": {\n",
        "            \"type\": \"string\",\n",
        "            \"description\": \"The city and state, e.g. Chicago, IL\",\n",
        "          },\n",
        "          \"unit\": {\"type\": \"string\", \"enum\": [\"celsius\", \"fahrenheit\"]},\n",
        "        },\n",
        "        \"required\": [\"location\"],\n",
        "      },\n",
        "    }\n",
        "  }\n",
        "]\n",
        "\n",
        "messages = [{\"role\": \"user\", \"content\": \"What's the weather like in Chicago today?\"}]\n",
        "response = client.chat.completions.create(\n",
        "  model=\"gemini-1.5-flash\",\n",
        "  messages=messages,\n",
        "  tools=tools,\n",
        "  tool_choice=\"auto\"\n",
        ")\n",
        "\n",
        "print(response)"
      ],
      "metadata": {
        "colab": {
          "base_uri": "https://localhost:8080/"
        },
        "id": "7kGZ2GZOkA_v",
        "outputId": "2601c383-0808-4d14-c474-8529e2541ca4"
      },
      "execution_count": null,
      "outputs": [
        {
          "output_type": "stream",
          "name": "stdout",
          "text": [
            "ChatCompletion(id=None, choices=[Choice(finish_reason=None, index=0, logprobs=None, message=ChatCompletionMessage(content=None, refusal=None, role='assistant', audio=None, function_call=None, tool_calls=None, toolCalls=[{'function': {'arguments': '{\"location\":\"Chicago, IL\"}', 'name': 'get_weather'}, 'id': '0', 'type': 'function'}]), finishReason='stop')], created=1734746439, model='gemini-1.5-flash', object='chat.completion', service_tier=None, system_fingerprint=None, usage=CompletionUsage(completion_tokens=None, prompt_tokens=None, total_tokens=None, completion_tokens_details=None, prompt_tokens_details=None, completionTokens=7, promptTokens=84, totalTokens=91))\n"
          ]
        }
      ]
    },
    {
      "cell_type": "markdown",
      "source": [
        "The model understood you were asking about the weather and tried to use a special tool (the get_weather function) to get the information. However, something went wrong, possibly because the tool wasn't fully built or the model can't directly access weather data. So, it ended up not providing the actual weather."
      ],
      "metadata": {
        "id": "QzJkqhOJBJpp"
      }
    },
    {
      "cell_type": "markdown",
      "source": [
        "# Example 3\n",
        "\n",
        "Gemini models are designed to understand both text and images, delivering top-notch performance for common vision tasks.\n",
        "\n",
        "![Agents.jpg](data:image/jpeg;base64,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)"
      ],
      "metadata": {
        "id": "4oSto_QOyuPr"
      }
    },
    {
      "cell_type": "code",
      "source": [
        "import base64\n",
        "from openai import OpenAI\n",
        "\n",
        "client = OpenAI(\n",
        "    api_key= gemini_api_key,\n",
        "    base_url=\"https://generativelanguage.googleapis.com/v1beta/openai/\"\n",
        ")\n",
        "\n",
        "# Function to encode the image\n",
        "def encode_image(image_path):\n",
        "  with open(image_path, \"rb\") as image_file:\n",
        "    return base64.b64encode(image_file.read()).decode('utf-8')\n",
        "\n",
        "# Getting the base64 string\n",
        "base64_image = encode_image(\"/content/Agents.jpg\")\n",
        "\n",
        "response = client.chat.completions.create(\n",
        "  model=\"gemini-1.5-flash\",\n",
        "  messages=[\n",
        "    {\n",
        "      \"role\": \"user\",\n",
        "      \"content\": [\n",
        "        {\n",
        "          \"type\": \"text\",\n",
        "          \"text\": \"What is in this image?\",\n",
        "        },\n",
        "        {\n",
        "          \"type\": \"image_url\",\n",
        "          \"image_url\": {\n",
        "            \"url\":  f\"data:image/jpeg;base64,{base64_image}\"\n",
        "          },\n",
        "        },\n",
        "      ],\n",
        "    }\n",
        "  ],\n",
        ")\n",
        "\n",
        "print(response.choices[0])"
      ],
      "metadata": {
        "colab": {
          "base_uri": "https://localhost:8080/"
        },
        "id": "AJFJRlIMw0rk",
        "outputId": "d0946758-afa4-49b3-b0a6-0e451bac413f"
      },
      "execution_count": null,
      "outputs": [
        {
          "output_type": "stream",
          "name": "stdout",
          "text": [
            "Choice(finish_reason=None, index=0, logprobs=None, message=ChatCompletionMessage(content='That\\'s a promotional image advertising AI agents.\\n\\nSpecifically, it shows:\\n\\n* **The Headline:** \"AI AGENTS ARE THE FUTURE\" in large, bold text.  This is the main message.\\n* **A 3D Rendered Illustration:** The image features a cute, cartoonish robot standing next to a computer screen. The screen displays a grid interface with several blocks.  Gears are also shown interacting with the grid, suggesting a process or mechanism. The style is playful and approachable, aiming to make the complex subject of AI agents seem less intimidating.\\n* **A Logo:** The Lyzr logo is in the bottom right corner, suggesting this is promotional material for a company involved in AI agent technology.\\n\\nIn short, the image is designed to be visually appealing and promote the idea that AI agents are a significant upcoming technology.\\n', refusal=None, role='assistant', audio=None, function_call=None, tool_calls=None), finishReason='stop')\n"
          ]
        }
      ]
    },
    {
      "cell_type": "markdown",
      "source": [
        "# Example 4\n",
        "Gemini models can create JSON objects in any structure you need, making it easy to organize and format data for your applications."
      ],
      "metadata": {
        "id": "d6J1Sfi6BZ0-"
      }
    },
    {
      "cell_type": "code",
      "source": [
        "from pydantic import BaseModel\n",
        "from openai import OpenAI\n",
        "\n",
        "client = OpenAI(\n",
        "    api_key= gemini_api_key,\n",
        "    base_url=\"https://generativelanguage.googleapis.com/v1beta/openai/\"\n",
        ")\n",
        "\n",
        "class CalendarEvent(BaseModel):\n",
        "    name: str\n",
        "    date: str\n",
        "    participants: list[str]\n",
        "\n",
        "completion = client.beta.chat.completions.parse(\n",
        "    model=\"gemini-1.5-flash\",\n",
        "    messages=[\n",
        "        {\"role\": \"system\", \"content\": \"Extract the event information.\"},\n",
        "        {\"role\": \"user\", \"content\": \"Siva and Vishal are going to an Devfest conference on Saturday.\"},\n",
        "    ],\n",
        "    response_format=CalendarEvent,\n",
        ")\n",
        "\n",
        "print(completion.choices[0].message.parsed)"
      ],
      "metadata": {
        "colab": {
          "base_uri": "https://localhost:8080/"
        },
        "id": "UIkD_tbj8ztj",
        "outputId": "f8f82f86-7d29-4cf4-af98-33dd8123f753"
      },
      "execution_count": null,
      "outputs": [
        {
          "output_type": "stream",
          "name": "stdout",
          "text": [
            "name='Devfest conference' date='Saturday' participants=['Siva', 'Vishal']\n"
          ]
        }
      ]
    },
    {
      "cell_type": "markdown",
      "source": [
        "We can see how the model extract the event details (name, date, participants) from the conversation and format it into a CalendarEvent. This is cool right! When you can parse natural language conversation about an event and convert it into a structured format suitable for calendar applications or other event management purposes."
      ],
      "metadata": {
        "id": "WaWyAnJ5-RBt"
      }
    },
    {
      "cell_type": "markdown",
      "source": [
        "# Example 5\n",
        "\n",
        "Gemini models can create text embeddings, which measure how similar different pieces of text are. This is especially useful for tasks like search, recommendation systems, or clustering related information."
      ],
      "metadata": {
        "id": "tWguU7DZBnKi"
      }
    },
    {
      "cell_type": "code",
      "source": [
        "from openai import OpenAI\n",
        "\n",
        "client = OpenAI(\n",
        "    api_key= gemini_api_key,\n",
        "    base_url=\"https://generativelanguage.googleapis.com/v1beta/openai/\"\n",
        ")\n",
        "\n",
        "response = client.embeddings.create(\n",
        "    input=\"DevFest is a global tech conference hosted by Google Developer Groups (GDGs).\",\n",
        "    model=\"text-embedding-004\"\n",
        ")\n",
        "\n",
        "print(response.data[0].embedding)"
      ],
      "metadata": {
        "colab": {
          "base_uri": "https://localhost:8080/"
        },
        "id": "oke0CQUh9WyI",
        "outputId": "c5e1d4f2-ce61-4e3e-d9c2-e7265b6dfe3e"
      },
      "execution_count": null,
      "outputs": [
        {
          "output_type": "stream",
          "name": "stdout",
          "text": [
            "[0.0021586427465081215, -0.03293360024690628, -0.07426734268665314, 0.007265171036124229, -0.06530175358057022, 0.035685036331415176, 0.03006521612405777, 0.05052141472697258, 0.025103408843278885, -0.011787735857069492, -0.021230977028608322, 0.024196764454245567, 0.03533056378364563, 0.01269074622541666, 0.0012736762873828411, -0.008689312264323235, -0.0300375297665596, 0.01114859152585268, -0.08675312995910645, 0.02738945186138153, -0.04500183090567589, -0.04844023287296295, -0.023941077291965485, 0.049129419028759, -0.04913712665438652, -0.0254242941737175, -0.011197279207408428, 0.044981442391872406, -0.01543339341878891, 0.03551740199327469, -0.009350009262561798, 0.013772102072834969, 0.01556518953293562, 0.037711627781391144, -0.041184816509485245, 0.03492927923798561, 0.01687024161219597, -0.037144821137189865, 0.013405459932982922, -0.0383523553609848, 0.01095657516270876, -0.0032002446241676807, 0.001027419464662671, 0.09306662529706955, -0.003513005096465349, 0.00113629677798599, 0.03359600156545639, 0.019818264991044998, -0.005743481684476137, 0.048767734318971634, 0.04338761419057846, -0.01197867188602686, -0.005702047608792782, 0.05578749626874924, 0.021254034712910652, 0.032403409481048584, -0.02938329242169857, -0.012365655973553658, 0.03128926828503609, 0.053755540400743484, -0.026849692687392235, -0.009283174760639668, -0.05947432667016983, -0.028907084837555885, -0.018198274075984955, 0.0076737008057534695, -0.034354761242866516, 0.03143082186579704, -0.015553195029497147, 0.0013084820238873363, 0.0145252775400877, -0.004165571182966232, -0.01723579876124859, 0.0562308132648468, -0.0458541065454483, 0.003963836003094912, -0.008978269062936306, -0.053046710789203644, 0.05780547484755516, 0.01343404408544302, 0.019345030188560486, 0.0008302493952214718, 0.025312239304184914, 9.989330465032253e-06, -0.04995705187320709, -0.03999748453497887, -0.02774364873766899, -0.022328469902276993, -0.03659713268280029, 0.043022822588682175, 0.012280995957553387, 0.005901084281504154, 0.02236614003777504, 0.028465351089835167, 0.016970371827483177, -0.04199061170220375, -0.06365949660539627, -0.007955675944685936, 0.08380503207445145, 0.13552403450012207, -0.05045356601476669, 0.012634599581360817, 0.08363529294729233, -0.02610589936375618, 0.05077695846557617, 0.0675596222281456, -0.03689658269286156, -0.05148831382393837, 0.014302614144980907, 0.024425655603408813, 0.023216035217046738, 0.038611575961112976, 0.0037714208010584116, -0.052479714155197144, -0.026019545271992683, 0.000272943900199607, -0.0390518382191658, -0.000897643156349659, -0.020020563155412674, 0.03661421686410904, 0.07056717574596405, -0.006645043846219778, -0.010153883136808872, 0.06220157444477081, 0.034466154873371124, -0.0038756346330046654, -0.025113003328442574, -0.06904597580432892, -0.06629293411970139, -0.04174722358584404, 0.03728935867547989, -0.025581346824765205, 0.024098502472043037, -0.013097324408590794, -0.008201265707612038, -0.031147705391049385, 0.06718333810567856, -0.02631698176264763, -0.0005784847890026867, 0.024572107940912247, 0.0012674399185925722, 0.02155010960996151, -0.07495562732219696, -0.0020039358641952276, -0.03795398399233818, -0.024150630459189415, 0.006292789708822966, 0.06020012125372887, 1.0560387636360247e-05, 0.0059743826277554035, -0.03240567818284035, -0.0176689475774765, 0.006290308199822903, -0.021361686289310455, -0.03098401427268982, -0.04282617196440697, 0.11477968841791153, 0.007667608559131622, 0.03435179218649864, 0.026736777275800705, 0.06747026741504669, -0.013935350812971592, 0.05606120452284813, -0.03618704155087471, -0.013051675632596016, 0.04254288226366043, -0.052569352090358734, 0.026874326169490814, 0.039976246654987335, 0.01977654919028282, -0.04367923364043236, 0.028696000576019287, -0.035131242126226425, -0.0255642868578434, -0.007455774582922459, 0.04231754690408707, -0.054578185081481934, -0.010349550284445286, -0.03509584441781044, -0.10948856174945831, 0.06871490925550461, 0.04074036329984665, -0.020014986395835876, -0.0645594671368599, 0.03878104314208031, 0.030852321535348892, 0.03958610072731972, 0.037997759878635406, 0.011398950591683388, 0.037213969975709915, -0.0025702225975692272, -0.028822191059589386, 0.03305007144808769, 0.04331570118665695, 0.030324634164571762, -0.06554332375526428, -0.005826648324728012, -0.048581063747406006, 0.0035937039647251368, -0.0367758646607399, 0.06326562911272049, 0.025690177455544472, -0.09313678741455078, -0.035082943737506866, 0.01814119704067707, 0.0071644955314695835, -0.0301120113581419, -0.036774322390556335, 0.014157723635435104, 0.03725438192486763, -0.07975933700799942, -0.030126657336950302, -0.03696117550134659, -0.10066208243370056, -0.016751166433095932, -0.02478804998099804, 0.06601066142320633, 0.018202435225248337, 0.030391674488782883, -0.00097807333804667, 0.024594200775027275, -0.012271014973521233, 0.011218675412237644, 0.03212231397628784, 0.08701632171869278, 0.06538459658622742, 0.03880761191248894, 0.009541130624711514, -0.028248464688658714, -0.0009633505251258612, 0.0321769081056118, 0.04868683964014053, -0.007255278993397951, 0.06613147258758545, 0.04165830463171005, 0.04796380549669266, 0.005778358317911625, -0.004822861403226852, 0.04119143635034561, 0.0836455449461937, -0.03223000094294548, 0.015537649393081665, -0.0009939796291291714, 0.0029684186447411776, 0.041686031967401505, 0.0017921205144375563, 0.0040436675772070885, 0.019505368545651436, -0.02891145832836628, -0.12870651483535767, -0.0032020483631640673, -0.00038756252615712583, 0.045128680765628815, -0.0013387951767072082, -0.004776207264512777, 0.009430548176169395, -0.03061264008283615, -0.04270942136645317, 0.03695528209209442, 0.02761046588420868, 0.05267393961548805, -0.03218648582696915, -0.022276906296610832, 0.019090183079242706, 0.0066977087408304214, 0.0017018254147842526, -0.011191070079803467, -0.024237900972366333, 0.04529954493045807, -0.08059589564800262, -0.04301083832979202, -0.059516098350286484, -0.02033976837992668, -0.01447306014597416, -0.023426398634910583, -0.018973706290125847, 0.03831002116203308, -0.004467884544283152, -0.012491638772189617, 0.05996392294764519, 0.005180466920137405, 0.011220583692193031, -0.027681861072778702, 0.0005797884077765048, 0.034386806190013885, 0.005174174439162016, -0.0003451117954682559, 0.06583338230848312, -0.002208985621109605, -0.0945623591542244, 0.05083845183253288, -0.01812109909951687, -0.020404832437634468, 0.006233209278434515, 0.007841033861041069, 0.01274358294904232, 0.00631769048050046, 0.05407516658306122, 0.0065586986020207405, -0.005950040649622679, 0.044524695724248886, 0.032762784510850906, -0.038363102823495865, 0.008281033486127853, 0.0227785874158144, 0.0027813820634037256, 0.005546762607991695, 0.03890151157975197, 0.013542926870286465, -0.033569905906915665, -0.053284935653209686, -0.018825305625796318, 0.019157158210873604, -0.014683486893773079, -0.01007539127022028, -0.03044299967586994, -0.12526048719882965, -0.007130336482077837, -0.01821140944957733, -0.04010950028896332, -0.01337359193712473, -0.017291661351919174, -0.04364742338657379, -0.013408103957772255, 0.0037470862735062838, 0.010184754617512226, -0.0600745789706707, 0.0256340429186821, -0.013393825851380825, 0.06274856626987457, 0.09443949162960052, -0.012764851562678814, -0.0075334543362259865, 0.0124945268034935, -0.004829245153814554, 0.019232718273997307, -0.01471641380339861, 0.01976306363940239, 0.07479351758956909, -0.0011703681666404009, 0.022132650017738342, 0.002894732868298888, 0.04412570223212242, -0.06216183677315712, -0.003634629538282752, 0.025774016976356506, 0.03112468123435974, 0.09152219444513321, 0.004765160381793976, 0.022823261097073555, -0.0032650756184011698, 0.05176592618227005, -0.0019494121661409736, -0.0046758512035012245, -0.008048441261053085, 0.03296424448490143, 0.006477825343608856, 0.024098290130496025, 0.04607541859149933, -0.03530114144086838, -0.07275009155273438, 0.019191814586520195, 0.025927769020199776, 0.05975578725337982, -0.047211017459630966, 0.04667499661445618, 0.02944980189204216, 0.04428005591034889, 0.0020550722256302834, 0.007663673255592585, 0.020958222448825836, 0.006165163591504097, -0.009294840507209301, 0.04314688220620155, 0.029559141024947166, -0.006922141648828983, -0.0015907493652775884, 0.0005017665098421276, 0.024498652666807175, -0.0008736096788197756, 0.06964074820280075, -0.0570828951895237, -0.02259131707251072, 0.02421603724360466, -0.02041584812104702, 0.010791001841425896, -0.04201865196228027, -0.027836911380290985, 0.04846642538905144, -0.03521348163485527, -0.031375788152217865, 0.043053172528743744, -0.05259136110544205, 0.014336373656988144, 0.039774034172296524, 0.0583418607711792, -0.0426248274743557, 0.06895706057548523, 0.0392497293651104, -0.019336890429258347, -0.0028807739727199078, -0.009399539791047573, 0.0487811416387558, -0.0525614470243454, -0.03031834401190281, -0.044161707162857056, 0.07921916246414185, 0.03325007110834122, 0.023511599749326706, -0.03281419724225998, 0.01992255635559559, -0.06371762603521347, -0.005402805283665657, 0.08080661296844482, 0.017147475853562355, -0.03412225842475891, -0.005983532872051001, -0.011575249023735523, 0.041628338396549225, 0.024210313335061073, -0.013001015409827232, 0.02968015894293785, 0.04923820495605469, 0.0038180341944098473, -0.050319284200668335, -0.0566662922501564, -0.031559545546770096, 0.016615407541394234, -0.024523798376321793, 0.017191022634506226, 0.016488753259181976, 0.05366293340921402, -0.026407966390252113, -0.04347953945398331, 0.01799635961651802, 0.005464382469654083, 0.02846454828977585, -0.008502883836627007, 0.049623750150203705, -0.031601354479789734, 0.01853051595389843, -0.047136060893535614, 0.039985593408346176, 0.048081278800964355, -0.006999029312282801, 0.029848575592041016, 0.03271428495645523, 0.002189110731706023, 0.004782831761986017, -0.03964126482605934, 0.035369791090488434, -0.03181972727179527, -0.03360661864280701, 0.006265448406338692, -0.038901880383491516, 0.016075223684310913, 0.010817094705998898, 0.028306854888796806, -0.0038330680690705776, -0.030055981129407883, -0.030175887048244476, -0.006971611175686121, 0.007958563975989819, 0.0127909816801548, -0.021058324724435806, 0.010724056512117386, 0.0009530449169687927, -0.009428027085959911, 0.0150900324806571, -0.03696421533823013, 0.012778791598975658, 0.03612881898880005, 0.0037415523547679186, -0.018830295652151108, 0.03170193359255791, 0.023449057713150978, 0.03149428218603134, 0.0029651103541254997, 0.010086927562952042, -0.024008918553590775, -0.004955778829753399, 0.0282319113612175, -0.08074139803647995, 0.050710298120975494, 0.017042865976691246, -0.029926901683211327, -0.004186289384961128, 0.019942769780755043, 0.03157767280936241, 0.011545450426638126, -0.003818850964307785, -0.024975379928946495, 0.004653708543628454, -0.07124332338571548, -0.03545548394322395, -0.034089915454387665, 0.03080166131258011, 0.00028941294294781983, -0.026157597079873085, 0.053243085741996765, 0.06194528937339783, 0.05214082449674606, 0.031865235418081284, 0.013061553239822388, -0.04393501207232475, 0.04007812589406967, -0.015508454293012619, 0.0609394907951355, 0.09823975712060928, -0.0030045376624912024, 0.007337652612477541, -0.02210499532520771, -0.05359111353754997, 0.014578278176486492, -0.028358878567814827, 0.04971582069993019, -0.07559865713119507, -0.037586383521556854, -0.026980647817254066, 0.02155429683625698, -0.0027689135167747736, -0.010404202155768871, 0.08054312318563461, -0.0026378436014056206, -0.017838189378380775, -0.0494992733001709, -0.05384688824415207, 0.02816585823893547, 0.03168439120054245, -0.023762749508023262, 0.020459413528442383, 0.04921236261725426, -0.009934372268617153, 0.03135719150304794, -0.016585033386945724, 0.028191449120640755, -0.06936679780483246, -0.008394808508455753, -0.010283812880516052, -0.007743949070572853, 0.03884014114737511, -0.002083852421492338, 0.015507880598306656, 0.025098033249378204, 0.058052003383636475, 0.01533060148358345, -0.005530013237148523, 0.011580291204154491, 0.020060241222381592, 0.05834702402353287, 0.0664718821644783, -0.052410297095775604, 0.010895658284425735, -0.02473348192870617, 0.016009753569960594, -0.0066872271709144115, -0.04184844717383385, -0.005510073620826006, 0.009042955003678799, -0.0420277900993824, -0.04970879480242729, -0.02633422426879406, 0.007302334066480398, 0.006202505901455879, 0.04262256994843483, 0.012782922945916653, -0.024986352771520615, 0.050149548798799515, -0.01777089759707451, -0.036107137799263, -0.013603082858026028, -0.01972556859254837, 0.035139963030815125, 0.045114725828170776, -0.014734114520251751, -0.00931068230420351, -0.022660115733742714, -0.009357262402772903, 0.011549818329513073, -0.024740692228078842, 0.017111830413341522, -0.029255220666527748, 0.08482027053833008, 0.018698012456297874, -0.00790597964078188, 0.01819930039346218, 0.06242622807621956, -0.01078028604388237, 0.015829535201191902, -0.021707454696297646, 0.03612839803099632, 0.007582691963762045, 0.02215547300875187, -0.0022388338111341, 0.0384756475687027, 0.00024786413996480405, -0.002421282697468996, 0.0007098005735315382, -0.061972375959157944, -0.004725496284663677, -0.0022127204574644566, -0.012635210528969765, 0.056469570845365524, -0.021765248849987984, -0.018688175827264786, -0.06040719896554947, 0.024049246683716774, -0.07317139208316803, 0.024509120732545853, 0.0037387313786894083, -0.015297148376703262, 0.0037049551028758287, -0.01364629901945591, -0.03376491367816925, -0.08743972331285477, 0.00635684235021472, 0.013236735947430134, 0.03315835818648338, -0.00022307777544483542, 0.0310117956250906, 0.01662411540746689, 0.02135571651160717, 0.04730129987001419, -0.002035814570263028, -0.003123692236840725, 0.010543725453317165, -0.006813454907387495, -0.017031630501151085, -0.0076092202216386795, -0.011366995982825756, 0.015104848891496658, 0.054388146847486496, -0.008848940953612328, -0.010855858214199543, -0.01863679476082325, -0.03151487186551094, -0.006745191756635904, 0.04185156151652336, 0.023849720135331154, -0.02065804786980152, 0.003070788225159049, -0.0013935324968770146, 0.037810616195201874, 0.008059056475758553, -0.0359494574368, 0.027808822691440582, -0.002564942231401801, -0.008569430559873581, 0.027868812903761864, 0.019240275025367737, 0.03963690623641014, 0.01306353323161602, -0.009239790961146355, 0.005744967609643936, -0.04934472218155861, 0.0012158819008618593, -0.05857103690505028, 0.04196245223283768, 0.032544154673814774, -0.07205617427825928, -0.022265655919909477, -0.016847237944602966, -0.02943042479455471, -0.009365757927298546, -0.02645704336464405, 0.00212365691550076, -0.019819920882582664, 0.046320054680109024, 0.005338385701179504, 0.0013264953158795834, 0.06379222869873047, 0.01738809235394001, -0.023867357522249222, -0.00103004090487957, 0.02963588573038578, 0.0015821987763047218, 0.049912840127944946, -0.07936926186084747, 0.023427404463291168, 0.0022056614980101585, -0.01980074681341648, -0.026167122647166252, 0.009303583763539791, 0.0008541456190869212, 0.05004236847162247, -0.019461439922451973, 0.017694441601634026, 0.042044878005981445, -0.007247508969157934, 0.0017590399365872145, -0.00697843823581934, -0.023979827761650085, -0.04185749962925911, -0.013562632724642754, 0.05082758516073227, 0.016244960948824883, -0.025536255910992622, 0.04626045748591423, -0.04598404839634895, 0.001559825730510056, 0.0407247394323349, 0.029984144493937492, -0.050689272582530975, -0.028991909697651863, 0.03293958678841591, 0.016549410298466682, -0.02081463858485222, 0.0011688701342791319, -0.07034154236316681, -0.0738852322101593, -0.054477494210004807, -0.015767965465784073, 0.03116963990032673, 0.06846462935209274, -0.06210814043879509, -0.007017126772552729, 0.04738996550440788, 0.002642409410327673, 0.02875433675944805, 0.046020567417144775, -0.015723025426268578, -0.02637646719813347, 0.06774166226387024, 0.03151204437017441, 0.04409677907824516, -0.02929196134209633, -0.005099094472825527, -0.0014979451661929488, -0.017729178071022034, 0.05631034076213837, 0.013204427435994148, 0.003697945037856698, -0.021938102319836617, -0.010419974103569984, 0.030955586582422256, 0.0009966358775272965, -0.011183518916368484, 0.026416996493935585, -0.045002635568380356, -0.017715418711304665, 0.027697818353772163, 0.03537054359912872, -0.006293520797044039, -0.009441073052585125, 0.003902929136529565, 0.04870115965604782, 0.03320951387286186, -0.017714129760861397, -0.007870213128626347, -0.04666324704885483, -0.025327421724796295, -0.012533795088529587, 0.012731346301734447, 0.03615792468190193, 0.019441988319158554, -0.047181058675050735, 0.04773032292723656, 0.02289576083421707, -0.03203251585364342, -0.010156773962080479, -0.024224771186709404, 0.06213442608714104, -0.0521700493991375, 0.03772320970892906, -0.006893117446452379, -0.00290721096098423, 0.034248657524585724, 0.00022114896273706108]\n"
          ]
        }
      ]
    },
    {
      "cell_type": "markdown",
      "source": [
        "We notice that response will contain a list of embeddings, which are numerical representations of the input text. You can use these embeddings to compare different pieces of text or to find similar text in a large dataset."
      ],
      "metadata": {
        "id": "9nFQRKKW92-j"
      }
    },
    {
      "cell_type": "markdown",
      "source": [
        "# Current limitations\n",
        "Support for the OpenAI libraries is still in beta while we extend feature support."
      ],
      "metadata": {
        "id": "2Io27nTU-6L4"
      }
    }
  ]
}